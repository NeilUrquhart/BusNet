{
 "cells": [
  {
   "cell_type": "markdown",
   "id": "924882cc",
   "metadata": {},
   "source": [
    "# How to use BusNet"
   ]
  },
  {
   "cell_type": "code",
   "execution_count": null,
   "id": "86c60882",
   "metadata": {},
   "outputs": [],
   "source": [
    "# Imports all needed for BusNet4\n",
    "!pip install geopandas\n",
    "\n",
    "import networkx as nx\n",
    "import pandas as pd\n",
    "import geopandas\n",
    "from datetime import datetime\n",
    "# import numpy as np\n",
    "import sys\n",
    "# import matplotlib.pyplot as plt\n",
    "from shapely.geometry import Polygon, LineString, Point\n",
    "from IPython.display import clear_output\n",
    "import pickle\n",
    "import math\n",
    "import time\n",
    "\n",
    "import BusNet4 as bus"
   ]
  },
  {
   "cell_type": "markdown",
   "id": "8bec22cb",
   "metadata": {},
   "source": [
    "# Initialisation\n",
    "\n",
    "Parsing the GTFS files can be slow (especially if you extract from larger data sources such as the UK Bus Open Data  https://www.gov.uk/guidance/find-and-use-bus-open-data ).  To get around this, BusNet once BusNet has parsed the GTFS data and created the graph, it saves the data structure in two pickle files:\n",
    "\n",
    " - <name>.graph.pickle\n",
    " - <name>.stops.pickle\n",
    "\n",
    "You may then load the structure quickly from the cache to speed up queries."
   ]
  },
  {
   "cell_type": "markdown",
   "id": "49026647",
   "metadata": {},
   "source": [
    "## Initialisation without a cache\n",
    "\n",
    "Assuming that you have the cache files:\n",
    "\n",
    "- dundeeworking.graph.pickle\n",
    "- dundeeworking.stops.pickle\n",
    "\n",
    "You can initialise BusNet directly from the cache as below:"
   ]
  },
  {
   "cell_type": "code",
   "execution_count": null,
   "id": "b1df4df7",
   "metadata": {},
   "outputs": [],
   "source": [
    "bus.setup(cache=\"dundeeworking\")"
   ]
  },
  {
   "cell_type": "code",
   "execution_count": null,
   "id": "6840f948",
   "metadata": {},
   "outputs": [],
   "source": [
    "import json\n",
    "\n",
    "# \n",
    "# START HERE!\n",
    "\n",
    "# Create a bounding box for the area that we're interested in \n",
    "j = json.load(open('./dundee_boundaries.geojson'))    \n",
    "j = j['features'][0]\n",
    "coords = j['geometry']['coordinates'][0]\n",
    "dundeeBoundary = []\n",
    "for c in coords:\n",
    "    dundeeBoundary.append(Point(c[1],c[0]))\n",
    "    \n",
    "# dundeeBoundary now contains a list of points that define Dundee. Only those services within that polygon will be extracted\n",
    "    \n",
    "    \n",
    "bus.setup(cache=\"dundeeworking\",validAgency = [\"Ember\",\"Stagecoach East Scotland\",\"Moffat & Williamson\",\"Xplore Dundee\"],boundingPoly = dundeeBoundary)\n",
    "# This creates the bus model\n",
    "# If the cache is specified then...  if <name>.stops.pickle and <name>.graph.pickle exist in the working directory they will be \n",
    "# used to create the model.  Otherwise the other params will be used to create a new model from scratch based on GTFS data that should \n",
    "# be locaed in ./itm_all_gtfs/\n",
    "\n",
    "# validAgency lists those gtfs agencies which should be included in the model\n",
    "# boundingPoly defines the area to that the model will be built from\n",
    "# for a route to be in the model it must be within the area AND operated by a valid agency\n",
    "\n",
    "\n",
    "# NOTE:  building and caching models takes time (ie hours in some cases).  It is best to build once and then cache!\n",
    "\n"
   ]
  },
  {
   "cell_type": "code",
   "execution_count": null,
   "id": "c4eab890",
   "metadata": {},
   "outputs": [],
   "source": [
    "\n",
    "\n",
    "# Test Dundee\n",
    "start = (56.46356336480093, -3.0368739883858193) \n",
    "dest = (56.47163455953654, -3.0114212570733745)\n",
    "r = bus.findPath(start,end=dest,walk=0.5)\n",
    "# walk is the maximum dist that will be walked to/from the bus stop\n",
    "\n",
    "print(r)\n",
    "# r is a tuple:\n",
    "# 1 status, should be 'found' if all has worked, otherwise an eror message\n",
    "# 2 time of journey in mins (includes walking)\n",
    "# 3 summary of journey, bus stop codes and services used \n",
    "# 4 verbose description of journey - used for debugging\n",
    "\n",
    "\n"
   ]
  },
  {
   "cell_type": "code",
   "execution_count": null,
   "id": "902c05c5",
   "metadata": {},
   "outputs": [],
   "source": [
    "\n",
    "# City centre\n",
    "\n",
    "# As an alternative to specifying an end point a polygon describing an area can be specified. This will find the quickest route \n",
    "# from the start to any stop within the area\n",
    "\n",
    "city_centre=[]\n",
    "city_centre.append(Point(56.45521456343855, -2.975808604)) \n",
    "city_centre.append(Point(56.46084193778188, -2.9768997916807534)) \n",
    "city_centre.append(Point(56.463990223978904, -2.967079106389851)) \n",
    "city_centre.append(Point(56.460239044693814, -2.9604107398342996)) \n",
    "\n",
    "r = bus.findPath(start,walk=0.5,centre=city_centre)\n",
    "print(r)\n",
    "\n"
   ]
  },
  {
   "cell_type": "code",
   "execution_count": null,
   "id": "44d68815",
   "metadata": {},
   "outputs": [],
   "source": [
    "# Run a batch of tests to find routes to the city centre\n",
    "\n",
    "points = []\n",
    "points.append((56.46356336480093, -3.0368739883858193)) \n",
    "points.append((56.46926335285665, -3.0293204073095032)) \n",
    "points.append((56.47514192611533, -2.94623630343118)) \n",
    "points.append((56.45503723262541, -2.997048069439411)) \n",
    "points.append((56.4808300012964, -2.9709555409486974))\n",
    "points.append((56.45921078022061, -3.0344702484589865))\n",
    "points.append((56.46736684471463, -3.0049444925352846))\n",
    "points.append((56.47115976627114, -2.936279943875513))\n",
    "points.append((56.48007164052372, -3.0004812968723997))\n",
    "points.append((56.47153903758696, -3.0389334441218714))\n",
    "points.append((56.46888405880653, -2.9376532348487085))\n",
    "\n",
    "for start in points:\n",
    "    r = bus.findPath(start,centre=city_centre)\n",
    "    print(\"Run :\")\n",
    "    print(r)"
   ]
  },
  {
   "cell_type": "markdown",
   "id": "8d0b72ce",
   "metadata": {},
   "source": [
    "## getStops() returns a GeoPandas table that contains details of all the bus stops in the network"
   ]
  },
  {
   "cell_type": "code",
   "execution_count": null,
   "id": "144ef46b",
   "metadata": {},
   "outputs": [],
   "source": [
    "bus.getStops()"
   ]
  },
  {
   "cell_type": "code",
   "execution_count": null,
   "id": "ab05d58a",
   "metadata": {},
   "outputs": [],
   "source": []
  }
 ],
 "metadata": {
  "kernelspec": {
   "display_name": "Python 3 (ipykernel)",
   "language": "python",
   "name": "python3"
  },
  "language_info": {
   "codemirror_mode": {
    "name": "ipython",
    "version": 3
   },
   "file_extension": ".py",
   "mimetype": "text/x-python",
   "name": "python",
   "nbconvert_exporter": "python",
   "pygments_lexer": "ipython3",
   "version": "3.11.4"
  }
 },
 "nbformat": 4,
 "nbformat_minor": 5
}
