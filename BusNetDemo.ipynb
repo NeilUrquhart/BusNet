{
 "cells": [
  {
   "cell_type": "markdown",
   "id": "924882cc",
   "metadata": {},
   "source": [
    "# How to use BusNet"
   ]
  },
  {
   "cell_type": "code",
   "execution_count": 1,
   "id": "86c60882",
   "metadata": {},
   "outputs": [
    {
     "name": "stdout",
     "output_type": "stream",
     "text": [
      "Requirement already satisfied: geopandas in c:\\programdata\\anaconda3\\lib\\site-packages (1.1.0)\n",
      "Requirement already satisfied: numpy>=1.24 in c:\\programdata\\anaconda3\\lib\\site-packages (from geopandas) (1.24.3)\n",
      "Requirement already satisfied: pyogrio>=0.7.2 in c:\\programdata\\anaconda3\\lib\\site-packages (from geopandas) (0.10.0)\n",
      "Requirement already satisfied: packaging in c:\\programdata\\anaconda3\\lib\\site-packages (from geopandas) (23.0)\n",
      "Requirement already satisfied: pandas>=2.0.0 in c:\\programdata\\anaconda3\\lib\\site-packages (from geopandas) (2.2.3)\n",
      "Requirement already satisfied: pyproj>=3.5.0 in c:\\programdata\\anaconda3\\lib\\site-packages (from geopandas) (3.7.1)\n",
      "Requirement already satisfied: shapely>=2.0.0 in c:\\programdata\\anaconda3\\lib\\site-packages (from geopandas) (2.1.0)\n",
      "Requirement already satisfied: python-dateutil>=2.8.2 in c:\\programdata\\anaconda3\\lib\\site-packages (from pandas>=2.0.0->geopandas) (2.8.2)\n",
      "Requirement already satisfied: pytz>=2020.1 in c:\\programdata\\anaconda3\\lib\\site-packages (from pandas>=2.0.0->geopandas) (2022.7)\n",
      "Requirement already satisfied: tzdata>=2022.7 in c:\\programdata\\anaconda3\\lib\\site-packages (from pandas>=2.0.0->geopandas) (2025.2)\n",
      "Requirement already satisfied: certifi in c:\\programdata\\anaconda3\\lib\\site-packages (from pyogrio>=0.7.2->geopandas) (2023.7.22)\n",
      "Requirement already satisfied: six>=1.5 in c:\\programdata\\anaconda3\\lib\\site-packages (from python-dateutil>=2.8.2->pandas>=2.0.0->geopandas) (1.16.0)\n"
     ]
    },
    {
     "name": "stderr",
     "output_type": "stream",
     "text": [
      "C:\\ProgramData\\anaconda3\\Lib\\site-packages\\pandas\\core\\arrays\\masked.py:60: UserWarning: Pandas requires version '1.3.6' or newer of 'bottleneck' (version '1.3.5' currently installed).\n",
      "  from pandas.core import (\n"
     ]
    },
    {
     "name": "stdout",
     "output_type": "stream",
     "text": [
      "Requirement already satisfied: networkx in c:\\programdata\\anaconda3\\lib\\site-packages (3.1)\n",
      "BusNet4 imported\n"
     ]
    },
    {
     "name": "stderr",
     "output_type": "stream",
     "text": [
      "ERROR: Could not find a version that satisfies the requirement iython (from versions: none)\n",
      "ERROR: No matching distribution found for iython\n"
     ]
    }
   ],
   "source": [
    "# Imports all needed for BusNet4\n",
    "!pip install geopandas\n",
    "\n",
    "import networkx as nx\n",
    "import pandas as pd\n",
    "import geopandas\n",
    "from datetime import datetime\n",
    "import numpy as np\n",
    "import sys\n",
    "import matplotlib.pyplot as plt\n",
    "from shapely.geometry import Polygon, LineString, Point\n",
    "from IPython.display import clear_output\n",
    "import pickle\n",
    "import math\n",
    "import time\n",
    "\n",
    "import BusNet4 as bus"
   ]
  },
  {
   "cell_type": "markdown",
   "id": "8bec22cb",
   "metadata": {},
   "source": [
    "# Initialisation\n",
    "\n",
    "Parsing the GTFS files can be slow (especially if you extract from larger data sources such as the UK Bus Open Data  https://www.gov.uk/guidance/find-and-use-bus-open-data ).  To get around this, BusNet once BusNet has parsed the GTFS data and created the graph, it saves the data structure in two pickle files:\n",
    "\n",
    " - <name>.graph.pickle\n",
    " - <name>.stops.pickle\n",
    "\n",
    "You may then load the structure quickly from the cache to speed up queries."
   ]
  },
  {
   "cell_type": "markdown",
   "id": "49026647",
   "metadata": {},
   "source": [
    "## Initialisation without a cache\n",
    "\n",
    "Assuming that you have the cache files:\n",
    "\n",
    "- dundeeworking.graph.pickle\n",
    "- dundeeworking.stops.pickle\n",
    "\n",
    "You can initialise BusNet directly from the cache as below:"
   ]
  },
  {
   "cell_type": "code",
   "execution_count": 2,
   "id": "b1df4df7",
   "metadata": {},
   "outputs": [
    {
     "name": "stdout",
     "output_type": "stream",
     "text": [
      "Cache loaded\n",
      "851\n"
     ]
    }
   ],
   "source": [
    "bus.setup(cache=\"dundeeworking\")"
   ]
  },
  {
   "cell_type": "code",
   "execution_count": 3,
   "id": "6840f948",
   "metadata": {},
   "outputs": [
    {
     "name": "stdout",
     "output_type": "stream",
     "text": [
      "Cache loaded\n",
      "851\n"
     ]
    }
   ],
   "source": [
    "import json\n",
    "\n",
    "# \n",
    "# START HERE!\n",
    "\n",
    "# Create a bounding box for the area that we're interested in \n",
    "j = json.load(open('./dundee_boundaries.geojson'))    \n",
    "j = j['features'][0]\n",
    "coords = j['geometry']['coordinates'][0]\n",
    "dundeeBoundary = []\n",
    "for c in coords:\n",
    "    dundeeBoundary.append(Point(c[1],c[0]))\n",
    "    \n",
    "# dundeeBoundary now contains a list of points that define Dundee. Only those services within that polygon will be extracted\n",
    "    \n",
    "    \n",
    "bus.setup(cache=\"dundeeworking\",validAgency = [\"Ember\",\"Stagecoach East Scotland\",\"Moffat & Williamson\",\"Xplore Dundee\"],boundingPoly = dundeeBoundary)\n",
    "# This creates the bus model\n",
    "# If the cache is specified then...  if <name>.stops.pickle and <name>.graph.pickle exist in the working directory they will be \n",
    "# used to create the model.  Otherwise the other params will be used to create a new model from scratch based on GTFS data that should \n",
    "# be locaed in ./itm_all_gtfs/\n",
    "\n",
    "# validAgency lists those gtfs agencies which should be included in the model\n",
    "# boundingPoly defines the area to that the model will be built from\n",
    "# for a route to be in the model it must be within the area AND operated by a valid agency\n",
    "\n",
    "\n",
    "# NOTE:  building and caching models takes time (ie hours in some cases).  It is best to build once and then cache!\n",
    "\n"
   ]
  },
  {
   "cell_type": "code",
   "execution_count": null,
   "id": "7534eebe",
   "metadata": {},
   "outputs": [],
   "source": [
    "bus.setup(cache=\"dundeeworking\")\n"
   ]
  },
  {
   "cell_type": "code",
   "execution_count": 4,
   "id": "c4eab890",
   "metadata": {},
   "outputs": [
    {
     "name": "stdout",
     "output_type": "stream",
     "text": [
      "Using end\n",
      "('found', 37.41761186460506, ['start', '640011695', '10:Xplore Dundee:Broughty Ferry', '6400PT1174', 'end'], ['Journey:', '0 : start', 0, '1 : 640011695', 'James Arnott Drive', 8.692099103675641, '2 : 10:Xplore Dundee:Broughty Ferry', 29.024197869107738, '3 : 6400PT1174', 'Lochee By-Pass', 29.024197869107738, '4 : end', 37.41761186460506])\n"
     ]
    }
   ],
   "source": [
    "\n",
    "\n",
    "# Test Dundee\n",
    "start = (56.46356336480093, -3.0368739883858193) \n",
    "dest = (56.47163455953654, -3.0114212570733745)\n",
    "r = bus.findPath(start,end=dest,walk=0.5)\n",
    "# walk is the maximum dist that will be walked to/from the bus stop\n",
    "\n",
    "print(r)\n",
    "# r is a tuple:\n",
    "# 1 status, should be 'found' if all has worked, otherwise an eror message\n",
    "# 2 time of journey in mins (includes walking)\n",
    "# 3 summary of journey, bus stop codes and services used \n",
    "# 4 verbose description of journey - used for debugging\n",
    "\n",
    "\n"
   ]
  },
  {
   "cell_type": "code",
   "execution_count": 5,
   "id": "902c05c5",
   "metadata": {},
   "outputs": [
    {
     "name": "stdout",
     "output_type": "stream",
     "text": [
      "Using centre\n",
      "('found', 28.5623518523047, ['start', '6400S128', '73:Stagecoach East Scotland:Monifieth', '6400PT1380', 'end'], ['Journey:', '0 : start', 0, '1 : 6400S128', 'Earn Crescent', 6.468937856807386, '2 : 73:Stagecoach East Scotland:Monifieth', 20.168937856807386, '3 : 6400PT1380', 'West Marketgait', 20.168937856807386, '4 : end', 28.5623518523047])\n"
     ]
    }
   ],
   "source": [
    "\n",
    "# City centre\n",
    "\n",
    "# As an alternative to specifying an end point a polygon describing an area can be specified. This will find the quickest route \n",
    "# from the start to any stop within the area\n",
    "\n",
    "city_centre=[]\n",
    "city_centre.append(Point(56.45521456343855, -2.975808604)) \n",
    "city_centre.append(Point(56.46084193778188, -2.9768997916807534)) \n",
    "city_centre.append(Point(56.463990223978904, -2.967079106389851)) \n",
    "city_centre.append(Point(56.460239044693814, -2.9604107398342996)) \n",
    "\n",
    "r = bus.findPath(start,walk=0.5,centre=city_centre)\n",
    "print(r)\n",
    "\n"
   ]
  },
  {
   "cell_type": "code",
   "execution_count": null,
   "id": "44d68815",
   "metadata": {},
   "outputs": [],
   "source": [
    "# Run a batch of tests to find routes to the city centre\n",
    "\n",
    "points = []\n",
    "points.append((56.46356336480093, -3.0368739883858193)) \n",
    "points.append((56.46926335285665, -3.0293204073095032)) \n",
    "points.append((56.47514192611533, -2.94623630343118)) \n",
    "points.append((56.45503723262541, -2.997048069439411)) \n",
    "points.append((56.4808300012964, -2.9709555409486974))\n",
    "points.append((56.45921078022061, -3.0344702484589865))\n",
    "points.append((56.46736684471463, -3.0049444925352846))\n",
    "points.append((56.47115976627114, -2.936279943875513))\n",
    "points.append((56.48007164052372, -3.0004812968723997))\n",
    "points.append((56.47153903758696, -3.0389334441218714))\n",
    "points.append((56.46888405880653, -2.9376532348487085))\n",
    "\n",
    "for start in points:\n",
    "    r = bus.findPath(start,centre=city_centre)\n",
    "    print(\"Run :\")\n",
    "    print(r)"
   ]
  },
  {
   "cell_type": "code",
   "execution_count": null,
   "id": "144ef46b",
   "metadata": {},
   "outputs": [],
   "source": []
  }
 ],
 "metadata": {
  "kernelspec": {
   "display_name": "Python 3 (ipykernel)",
   "language": "python",
   "name": "python3"
  },
  "language_info": {
   "codemirror_mode": {
    "name": "ipython",
    "version": 3
   },
   "file_extension": ".py",
   "mimetype": "text/x-python",
   "name": "python",
   "nbconvert_exporter": "python",
   "pygments_lexer": "ipython3",
   "version": "3.11.4"
  }
 },
 "nbformat": 4,
 "nbformat_minor": 5
}
